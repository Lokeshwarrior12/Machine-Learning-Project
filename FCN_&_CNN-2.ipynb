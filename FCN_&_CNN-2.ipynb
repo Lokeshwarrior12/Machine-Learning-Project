{
  "cells": [
    {
      "cell_type": "markdown",
      "metadata": {},
      "source": [
        "# CSE-6363 homework-2\n",
        "\n",
        "Team Members:\n",
        "    1. Nikhil Reddy Duggireddy  -1001968033\n",
        "    2. Laya Kalali              -1002128876\n",
        "    3. Sasikala Paturu          -1002083123\n",
        "    4. Lokeshwar Kodipunjula    -1002175121"
      ]
    },
    {
      "cell_type": "markdown",
      "metadata": {
        "id": "b-LF92980j-B"
      },
      "source": [
        "# Step 1: Fully Connected Neural Network from Scratch"
      ]
    },
    {
      "cell_type": "markdown",
      "metadata": {
        "id": "UK-Ieiry05ss"
      },
      "source": [
        "## 1.1. Loading the CIFAR10 Dataset"
      ]
    },
    {
      "cell_type": "code",
      "execution_count": 10,
      "metadata": {
        "colab": {
          "base_uri": "https://localhost:8080/"
        },
        "id": "aLKpRbW1WJY2",
        "outputId": "210a69f9-a983-4ef8-80a8-4c7e62333e77"
      },
      "outputs": [
        {
          "name": "stdout",
          "output_type": "stream",
          "text": [
            "Files already downloaded and verified\n",
            "Files already downloaded and verified\n"
          ]
        }
      ],
      "source": [
        "import torch\n",
        "import torchvision\n",
        "import numpy as np\n",
        "from torch.utils.data import random_split, DataLoader\n",
        "\n",
        "# Transform to normalize data to range [-1, 1]\n",
        "transform = torchvision.transforms.Compose([\n",
        "    torchvision.transforms.ToTensor(),\n",
        "    torchvision.transforms.Normalize((0.5, 0.5, 0.5), (0.5, 0.5, 0.5))  # Normalize with mean 0.5 and std 0.5\n",
        "])\n",
        "\n",
        "# Download training and test data\n",
        "trainset = torchvision.datasets.CIFAR10(root='./data', train=True, download=True, transform=transform)\n",
        "testset = torchvision.datasets.CIFAR10(root='./data', train=False, download=True, transform=transform)\n",
        "\n",
        "# Split into training (90%) and validation (10%)\n",
        "train_size = int(0.9 * len(trainset))\n",
        "val_size = len(trainset) - train_size\n",
        "train_data, val_data = random_split(trainset, [train_size, val_size])\n",
        "\n",
        "\n",
        "# Convert datasets into DataLoader for batching\n",
        "batch_size = 64\n",
        "train_loader = DataLoader(train_data, batch_size=batch_size, shuffle=True)\n",
        "val_loader = DataLoader(val_data, batch_size=batch_size, shuffle=True)\n",
        "\n",
        "# Test loader for predictions later\n",
        "test_loader = DataLoader(testset, batch_size=1, shuffle=False)\n",
        "\n",
        "# CIFAR-10 has 10 classes\n",
        "classes = ['airplane', 'automobile', 'bird', 'cat', 'deer', 'dog', 'frog', 'horse', 'ship', 'truck']\n",
        "\n",
        "# Function to flatten images and convert to numpy\n",
        "def preprocess_data(dataset):\n",
        "    images = []\n",
        "    labels = []\n",
        "    for img, label in dataset:\n",
        "        images.append(img.numpy().flatten().reshape(-1, 1))  # Flatten image to 3072 and reshape to (3072, 1)\n",
        "        one_hot_label = np.zeros((10, 1))  # One-hot encode label\n",
        "        one_hot_label[label] = 1\n",
        "        labels.append(one_hot_label)\n",
        "    return np.hstack(images), np.hstack(labels)\n",
        "\n",
        "# Preprocess training and validation data\n",
        "X_train, y_train = preprocess_data(train_data)\n",
        "X_val, y_val = preprocess_data(val_data)\n"
      ]
    },
    {
      "cell_type": "markdown",
      "metadata": {
        "id": "o1NOya4J1AqE"
      },
      "source": [
        "## 1.2. Implementing the Fully Connected Neural Network"
      ]
    },
    {
      "cell_type": "code",
      "execution_count": 11,
      "metadata": {
        "colab": {
          "base_uri": "https://localhost:8080/"
        },
        "id": "Yvk8u5P0WLk1",
        "outputId": "4e73e27a-40b1-4cf3-a0d8-c4acee076a1e"
      },
      "outputs": [
        {
          "name": "stdout",
          "output_type": "stream",
          "text": [
            "Iteration 0, Cost: 0.0000, Train Accuracy: 33.26%, Validation Accuracy: 32.98%\n",
            "Iteration 10, Cost: 0.0000, Train Accuracy: 52.59%, Validation Accuracy: 48.80%\n",
            "Iteration 20, Cost: 0.0000, Train Accuracy: 58.83%, Validation Accuracy: 51.36%\n",
            "Iteration 30, Cost: 0.0000, Train Accuracy: 63.54%, Validation Accuracy: 52.06%\n",
            "Iteration 40, Cost: 0.0000, Train Accuracy: 66.15%, Validation Accuracy: 51.14%\n"
          ]
        }
      ],
      "source": [
        "import numpy as np\n",
        "\n",
        "class NeuralNetwork:\n",
        "    def __init__(self, layer_dimensions):\n",
        "        # layer_dimensions = [input_size, hidden1_size, hidden2_size, ..., output_size]\n",
        "        self.parameters = {}\n",
        "        self.L = len(layer_dimensions) - 1  # Number of layers (excluding input layer)\n",
        "\n",
        "        # Initialize weights and biases\n",
        "        for l in range(1, self.L + 1):\n",
        "            self.parameters['W' + str(l)] = np.random.randn(layer_dimensions[l], layer_dimensions[l-1]) * 0.01\n",
        "            self.parameters['b' + str(l)] = np.zeros((layer_dimensions[l], 1))\n",
        "\n",
        "    def affineForward(self, A, W, b):\n",
        "        Z = np.dot(W, A) + b\n",
        "        return Z\n",
        "\n",
        "    def activationForward(self, A):\n",
        "        return np.maximum(0, A)  # ReLU activation\n",
        "\n",
        "    def softmax(self, Z):\n",
        "        expZ = np.exp(Z - np.max(Z))\n",
        "        return expZ / expZ.sum(axis=0, keepdims=True)\n",
        "\n",
        "    def forwardPropagation(self, X):\n",
        "        caches = {}\n",
        "        A = X\n",
        "        caches['A0'] = A\n",
        "\n",
        "        # Forward pass through layers\n",
        "        for l in range(1, self.L + 1):\n",
        "            W = self.parameters['W' + str(l)]\n",
        "            b = self.parameters['b' + str(l)]\n",
        "            Z = self.affineForward(A, W, b)\n",
        "            A = self.activationForward(Z) if l != self.L else self.softmax(Z)\n",
        "            caches['A' + str(l)] = A\n",
        "            caches['Z' + str(l)] = Z\n",
        "\n",
        "        return A, caches\n",
        "\n",
        "    def costFunction(self, AL, y):\n",
        "        m = y.shape[0]\n",
        "        cost = -np.sum(y * np.log(AL)) / m\n",
        "        # m = y.shape[1]\n",
        "        # cost = -np.sum(y * np.log(AL + 1e-8)) / m\n",
        "        return cost\n",
        "\n",
        "    def affineBackward(self, dZ, A_prev, W):\n",
        "        m = A_prev.shape[1]\n",
        "        dW = np.dot(dZ, A_prev.T) / m\n",
        "        db = np.sum(dZ, axis=1, keepdims=True) / m\n",
        "        dA_prev = np.dot(W.T, dZ)\n",
        "        return dA_prev, dW, db\n",
        "\n",
        "    def activationBackward(self, dA, Z):\n",
        "        dZ = np.array(dA, copy=True)\n",
        "        dZ[Z <= 0] = 0  # Derivative of ReLU\n",
        "        return dZ\n",
        "\n",
        "    def backPropagation(self, AL, Y, caches):\n",
        "        gradients = {}\n",
        "        m = AL.shape[1]\n",
        "        Y = Y.reshape(AL.shape)  # Reshape Y to be the same shape as AL\n",
        "\n",
        "        # Initial gradient for softmax layer\n",
        "        dAL = AL - Y\n",
        "\n",
        "        for l in reversed(range(1, self.L + 1)):\n",
        "            A_prev = caches['A' + str(l - 1)]\n",
        "            Z = caches['Z' + str(l)]\n",
        "            W = self.parameters['W' + str(l)]\n",
        "\n",
        "            if l == self.L:\n",
        "                dZ = dAL\n",
        "            else:\n",
        "                dZ = self.activationBackward(dAL, Z)\n",
        "\n",
        "            dAL, dW, db = self.affineBackward(dZ, A_prev, W)\n",
        "\n",
        "            # Store gradients\n",
        "            gradients['dW' + str(l)] = dW\n",
        "            gradients['db' + str(l)] = db\n",
        "\n",
        "        return gradients\n",
        "\n",
        "    def updateParameters(self, gradients, alpha):\n",
        "        # Update the weights using gradient descent\n",
        "        for l in range(1, self.L + 1):\n",
        "            self.parameters['W' + str(l)] -= alpha * gradients['dW' + str(l)]\n",
        "            self.parameters['b' + str(l)] -= alpha * gradients['db' + str(l)]\n",
        "\n",
        "    def train(self, X_train, y_train, X_val, y_val, iters, alpha, batch_size):\n",
        "        m = X_train.shape[1]  # Number of examples\n",
        "\n",
        "        for i in range(iters):\n",
        "            indices = np.random.permutation(m)\n",
        "            X_train_shuffled = X_train[:, indices]\n",
        "            y_train_shuffled = y_train[:, indices]\n",
        "\n",
        "            epoch_loss = 0  # Track loss for the epoch\n",
        "            for j in range(0, m, batch_size):\n",
        "                X_batch = X_train_shuffled[:, j:j+batch_size]\n",
        "                y_batch = y_train_shuffled[:, j:j+batch_size]\n",
        "\n",
        "                # Forward propagation\n",
        "                AL, caches = self.forwardPropagation(X_batch)\n",
        "\n",
        "                # Compute cost\n",
        "                cost = self.costFunction(AL, y_batch)\n",
        "\n",
        "                # Backward propagation\n",
        "                gradients = self.backPropagation(AL, y_batch, caches)\n",
        "\n",
        "                # Update parameters\n",
        "                self.updateParameters(gradients, alpha)\n",
        "\n",
        "            # Average loss for the epoch\n",
        "            avg_epoch_loss = epoch_loss / (m / batch_size)\n",
        "\n",
        "            # Compute training accuracy\n",
        "            train_acc = self.evaluate(X_train, y_train)\n",
        "            # Compute validation accuracy\n",
        "            val_acc = self.evaluate(X_val, y_val)\n",
        "\n",
        "            # Print metrics\n",
        "            if i % 10 == 0:  # Print every 10 iterations\n",
        "              print(f\"Iteration {i}, Cost: {avg_epoch_loss:.4f}, Train Accuracy: {train_acc:.2f}%, Validation Accuracy: {val_acc:.2f}%\")\n",
        "\n",
        "    def evaluate(self, X, y):\n",
        "        AL, _ = self.forwardPropagation(X)\n",
        "        predictions = np.argmax(AL, axis=0)\n",
        "        labels = np.argmax(y, axis=0)\n",
        "        accuracy = np.mean(predictions == labels) * 100  # Calculate accuracy\n",
        "        return accuracy\n",
        "\n",
        "    def predict(self, X_new):\n",
        "        AL, _ = self.forwardPropagation(X_new)\n",
        "        return np.argmax(AL, axis=0)\n",
        "\n",
        "# Network Architecture: input layer (3072), one hidden layer (128 neurons), output layer (10 neurons)\n",
        "layer_dimensions = [3072, 128, 10]\n",
        "\n",
        "# Create an instance of NeuralNetwork\n",
        "network = NeuralNetwork(layer_dimensions)\n",
        "\n",
        "# Hyperparameters\n",
        "iterations = 50  # Number of iterations\n",
        "learning_rate = 0.01  # Learning rate\n",
        "batch_size = 64  # Batch size\n",
        "\n",
        "# Train the network\n",
        "network.train(X_train, y_train, X_val, y_val, iters=iterations, alpha=learning_rate, batch_size=batch_size)\n"
      ]
    },
    {
      "cell_type": "markdown",
      "metadata": {
        "id": "PAVODRvX1Gxb"
      },
      "source": [
        "## 1.3. Displaying Predictions"
      ]
    },
    {
      "cell_type": "code",
      "execution_count": 12,
      "metadata": {
        "colab": {
          "base_uri": "https://localhost:8080/",
          "height": 447
        },
        "id": "JYp8Hy3cWPjR",
        "outputId": "a0550efd-f940-498a-d87c-47b35ff5bd61"
      },
      "outputs": [
        {
          "data": {
            "image/png": "[encoded data removed]",
            "text/plain": [
              "<Figure size 640x480 with 1 Axes>"
            ]
          },
          "metadata": {},
          "output_type": "display_data"
        },
        {
          "name": "stdout",
          "output_type": "stream",
          "text": [
            "Predicted label: frog\n"
          ]
        }
      ],
      "source": [
        "import matplotlib.pyplot as plt\n",
        "\n",
        "def imshow(img):\n",
        "    img = img / 2 + 0.5  # Unnormalize\n",
        "    npimg = img.numpy()\n",
        "    plt.imshow(np.transpose(npimg, (1, 2, 0)))\n",
        "    plt.show()\n",
        "\n",
        "# Display an image from testset\n",
        "imshow(testset[5][0])\n",
        "\n",
        "# Predict label for the image\n",
        "image = testset[5][0].numpy().flatten().reshape(-1, 1)\n",
        "label = network.predict(image)\n",
        "print(f\"Predicted label: {classes[label[0]]}\")\n"
      ]
    },
    {
      "cell_type": "markdown",
      "metadata": {
        "id": "HSkbwo8hxJTq"
      },
      "source": [
        "# Step 2: Convolutional Neural Network (CNN) using PyTorch"
      ]
    },
    {
      "cell_type": "markdown",
      "metadata": {
        "id": "74O1K_801NHL"
      },
      "source": [
        "## 2.1. Loading the CIFAR10 Dataset"
      ]
    },
    {
      "cell_type": "markdown",
      "metadata": {
        "id": "TKPAbBYl1PAd"
      },
      "source": [
        "Since the CIFAR10 dataset was previously loaded, you can reuse the same code. The trainloader, valloader, and testloader are now prepared for CNN training.\n",
        "\n"
      ]
    },
    {
      "cell_type": "markdown",
      "metadata": {
        "id": "c34ff2VY1WYe"
      },
      "source": [
        "## 2.2. Implementing the CNN using PyTorch"
      ]
    },
    {
      "cell_type": "markdown",
      "metadata": {
        "id": "iA0Yowwm2QOu"
      },
      "source": [
        "We will construct a CNN that includes at least two convolutional layers, followed by pooling and normalization layers, ReLU activation functions, a fully connected layer, and a softmax output layer. Additionally, we will implement dropout and utilize gradient descent as the optimizer."
      ]
    },
    {
      "cell_type": "code",
      "execution_count": 13,
      "metadata": {
        "id": "J6kM0rx-xPqU"
      },
      "outputs": [],
      "source": [
        "import torch.nn as nn\n",
        "import torch.optim as optim\n",
        "\n",
        "class CNN(nn.Module):\n",
        "    def __init__(self):\n",
        "        super(CNN, self).__init__()\n",
        "\n",
        "        # First convolutional layer\n",
        "        self.conv1 = nn.Conv2d(in_channels=3, out_channels=32, kernel_size=3, padding=1)  # 32 filters, kernel size 3\n",
        "        self.bn1 = nn.BatchNorm2d(32)  # Batch normalization\n",
        "        self.pool = nn.MaxPool2d(kernel_size=2, stride=2)  # Max pooling layer\n",
        "\n",
        "        # Second convolutional layer\n",
        "        self.conv2 = nn.Conv2d(in_channels=32, out_channels=64, kernel_size=3, padding=1)  # 64 filters\n",
        "        self.bn2 = nn.BatchNorm2d(64)  # Batch normalization\n",
        "\n",
        "        # Fully connected layer\n",
        "        self.fc1 = nn.Linear(64 * 8 * 8, 512)  # Input size based on previous layers\n",
        "        self.fc2 = nn.Linear(512, 10)  # Output layer (10 classes)\n",
        "\n",
        "    def forward(self, x):\n",
        "        x = self.pool(nn.ReLU()(self.bn1(self.conv1(x))))  # Conv1 -> BN -> ReLU -> Pooling\n",
        "        x = self.pool(nn.ReLU()(self.bn2(self.conv2(x))))  # Conv2 -> BN -> ReLU -> Pooling\n",
        "        x = x.view(-1, 64 * 8 * 8)  # Flatten the tensor\n",
        "        x = nn.ReLU()(self.fc1(x))  # Fully connected layer with ReLU\n",
        "        x = self.fc2(x)  # Output layer\n",
        "        return x\n"
      ]
    },
    {
      "cell_type": "markdown",
      "metadata": {
        "id": "wfZoE0aA1gHF"
      },
      "source": [
        "## 2.3. Training and Evaluating the Model"
      ]
    },
    {
      "cell_type": "markdown",
      "metadata": {
        "id": "q5daCQyA2U39"
      },
      "source": [
        "We will now train the network for a specified number of epochs, keeping track of both the training and validation accuracy throughout the training process."
      ]
    },
    {
      "cell_type": "code",
      "execution_count": 14,
      "metadata": {
        "id": "iBzwaJ_PxWOF"
      },
      "outputs": [],
      "source": [
        "def train_model(model, train_loader, val_loader, criterion, optimizer, num_epochs):\n",
        "    for epoch in range(num_epochs):\n",
        "        model.train()  # Set the model to training mode\n",
        "        running_loss = 0.0\n",
        "        correct = 0\n",
        "        total = 0\n",
        "\n",
        "        for images, labels in train_loader:\n",
        "            optimizer.zero_grad()  # Zero the gradients\n",
        "\n",
        "            outputs = model(images)  # Forward pass\n",
        "            loss = criterion(outputs, labels)  # Compute the loss\n",
        "            loss.backward()  # Backward pass\n",
        "            optimizer.step()  # Update parameters\n",
        "\n",
        "            running_loss += loss.item()  # Track running loss\n",
        "            _, predicted = torch.max(outputs.data, 1)  # Get the predicted labels\n",
        "            total += labels.size(0)  # Update total count\n",
        "            correct += (predicted == labels).sum().item()  # Update correct predictions\n",
        "\n",
        "        # Calculate training accuracy\n",
        "        train_accuracy = 100 * correct / total\n",
        "        val_accuracy = evaluate_model(model, val_loader, criterion)\n",
        "\n",
        "        # Average loss for the epoch\n",
        "        avg_loss = running_loss / len(train_loader)\n",
        "\n",
        "        print(f'Epoch [{epoch + 1}/{num_epochs}], Loss: {avg_loss:.4f}, '\n",
        "              f'Train Accuracy: {train_accuracy:.2f}%, Validation Accuracy: {val_accuracy:.2f}%')\n",
        "\n",
        "def evaluate_model(model, val_loader, criterion):\n",
        "    model.eval()  # Set the model to evaluation mode\n",
        "    correct = 0\n",
        "    total = 0\n",
        "\n",
        "    with torch.no_grad():  # No gradient computation needed\n",
        "        for images, labels in val_loader:\n",
        "            outputs = model(images)\n",
        "            _, predicted = torch.max(outputs.data, 1)\n",
        "            total += labels.size(0)\n",
        "            correct += (predicted == labels).sum().item()\n",
        "\n",
        "    # Calculate validation accuracy\n",
        "    val_accuracy = 100 * correct / total\n",
        "    return val_accuracy\n"
      ]
    },
    {
      "cell_type": "markdown",
      "metadata": {
        "id": "rdsZZFco1wVM"
      },
      "source": [
        "## 2.4. Initialize the model, criterion, and optimizer"
      ]
    },
    {
      "cell_type": "code",
      "execution_count": 15,
      "metadata": {
        "colab": {
          "base_uri": "https://localhost:8080/"
        },
        "id": "2MATgfzRxbY1",
        "outputId": "c5271e57-f416-4355-b8c9-9d2c469aeea0"
      },
      "outputs": [
        {
          "name": "stdout",
          "output_type": "stream",
          "text": [
            "Epoch [1/10], Loss: 1.2888, Train Accuracy: 53.38%, Validation Accuracy: 60.26%\n",
            "Epoch [2/10], Loss: 0.9151, Train Accuracy: 67.52%, Validation Accuracy: 67.46%\n",
            "Epoch [3/10], Loss: 0.7359, Train Accuracy: 74.17%, Validation Accuracy: 68.68%\n",
            "Epoch [4/10], Loss: 0.5945, Train Accuracy: 79.26%, Validation Accuracy: 71.78%\n",
            "Epoch [5/10], Loss: 0.4705, Train Accuracy: 83.51%, Validation Accuracy: 72.50%\n",
            "Epoch [6/10], Loss: 0.3580, Train Accuracy: 87.70%, Validation Accuracy: 73.88%\n",
            "Epoch [7/10], Loss: 0.2597, Train Accuracy: 90.86%, Validation Accuracy: 74.04%\n",
            "Epoch [8/10], Loss: 0.1742, Train Accuracy: 94.18%, Validation Accuracy: 73.90%\n",
            "Epoch [9/10], Loss: 0.1209, Train Accuracy: 96.01%, Validation Accuracy: 74.32%\n",
            "Epoch [10/10], Loss: 0.0745, Train Accuracy: 97.68%, Validation Accuracy: 74.76%\n"
          ]
        }
      ],
      "source": [
        "# Initialize the model, criterion, and optimizer\n",
        "model = CNN()\n",
        "criterion = nn.CrossEntropyLoss()  # Cross-entropy loss for classification\n",
        "optimizer = optim.SGD(model.parameters(), lr=0.01, momentum=0.9)  # SGD optimizer with momentum\n",
        "\n",
        "# Train the model\n",
        "num_epochs = 10  # Number of epochs for training\n",
        "train_model(model, train_loader, val_loader, criterion, optimizer, num_epochs)\n"
      ]
    },
    {
      "cell_type": "markdown",
      "metadata": {
        "id": "jElLu3o3DMkl"
      },
      "source": [
        "## 2.5. Displaying Predictions"
      ]
    },
    {
      "cell_type": "code",
      "execution_count": 16,
      "metadata": {
        "colab": {
          "base_uri": "https://localhost:8080/",
          "height": 1000
        },
        "id": "FoCdrpjsDNAe",
        "outputId": "6291ee37-6777-410f-b53f-7f09fbc5b80e"
      },
      "outputs": [
        {
          "data": {
            "image/png": "[encoded data removed]",
            "text/plain": [
              "<Figure size 640x480 with 1 Axes>"
            ]
          },
          "metadata": {},
          "output_type": "display_data"
        },
        {
          "name": "stdout",
          "output_type": "stream",
          "text": [
            "Predicted label: cat, True label: cat\n"
          ]
        },
        {
          "data": {
            "image/png": "[encoded data removed]",
            "text/plain": [
              "<Figure size 640x480 with 1 Axes>"
            ]
          },
          "metadata": {},
          "output_type": "display_data"
        },
        {
          "name": "stdout",
          "output_type": "stream",
          "text": [
            "Predicted label: ship, True label: ship\n"
          ]
        },
        {
          "data": {
            "image/png": "[encoded data removed]",
            "text/plain": [
              "<Figure size 640x480 with 1 Axes>"
            ]
          },
          "metadata": {},
          "output_type": "display_data"
        },
        {
          "name": "stdout",
          "output_type": "stream",
          "text": [
            "Predicted label: ship, True label: ship\n"
          ]
        },
        {
          "data": {
            "image/png": "[encoded data removed]",
            "text/plain": [
              "<Figure size 640x480 with 1 Axes>"
            ]
          },
          "metadata": {},
          "output_type": "display_data"
        },
        {
          "name": "stdout",
          "output_type": "stream",
          "text": [
            "Predicted label: airplane, True label: airplane\n"
          ]
        },
        {
          "data": {
            "image/png": "[encoded data removed]",
            "text/plain": [
              "<Figure size 640x480 with 1 Axes>"
            ]
          },
          "metadata": {},
          "output_type": "display_data"
        },
        {
          "name": "stdout",
          "output_type": "stream",
          "text": [
            "Predicted label: frog, True label: frog\n"
          ]
        }
      ],
      "source": [
        "import matplotlib.pyplot as plt\n",
        "import numpy as np\n",
        "\n",
        "def imshow(img):\n",
        "    img = img / 2 + 0.5  # Unnormalize\n",
        "    npimg = img.numpy()\n",
        "    plt.imshow(np.transpose(npimg, (1, 2, 0)))  # Change shape for displaying\n",
        "    plt.axis('off')\n",
        "    plt.show()\n",
        "\n",
        "# Function to predict and display results\n",
        "def predict_and_display(model, testset, num_images=5):\n",
        "  model.eval()\n",
        "  with torch.no_grad():\n",
        "        images, labels = zip(*[testset[i] for i in range(num_images)])  # Get first 'num_images' from testset\n",
        "        images = torch.stack(images)  # Create a batch of images\n",
        "        outputs = model(images)  # Get model outputs\n",
        "        _, predicted = torch.max(outputs.data, 1)  # Get predicted classes\n",
        "\n",
        "        learning_rates = [0.001, 0.01, 0.0001]\n",
        "\n",
        "        # Display images and their predictions\n",
        "        for i in range(num_images):\n",
        "            imshow(images[i])\n",
        "            print(f'Predicted label: {classes[predicted[i]]}, True label: {classes[labels[i]]}')\n",
        "\n",
        "# Call the function to predict and display results\n",
        "predict_and_display(model, testset, num_images=5)"
      ]
    },
    {
      "cell_type": "markdown",
      "metadata": {
        "id": "ZATidfuFytpB"
      },
      "source": [
        "# Step 3: Different Methods to Improve Performance"
      ]
    },
    {
      "cell_type": "markdown",
      "metadata": {
        "id": "Paf99H0gzEC0"
      },
      "source": [
        "**3.1. Change the Optimizer:** Try using the Adam optimizer instead of SGD for potentially faster convergence and better accuracy."
      ]
    },
    {
      "cell_type": "markdown",
      "metadata": {
        "id": "p-Mi9pBqzMIe"
      },
      "source": [
        "**3.2. Different Learning Rates:** The learning rate is a key hyperparameter when training neural networks. A learning rate that is too high can cause the training to diverge, while one that is too low may lead to slow convergence. We will run experiments with the following three learning rates:\n",
        "\n",
        "\n",
        "\n",
        "\n",
        "*   0.001 (default)\n",
        "*   0.01 (higher rate)\n",
        "\n",
        "*   0.0001 (lower rate)\n",
        "\n",
        "\n",
        "\n",
        "\n",
        "\n",
        "\n",
        "\n",
        "\n"
      ]
    },
    {
      "cell_type": "code",
      "execution_count": 18,
      "metadata": {
        "colab": {
          "base_uri": "https://localhost:8080/"
        },
        "id": "t3usaIKqzoAt",
        "outputId": "49b25de3-3451-43c7-edae-b4a33d70c159"
      },
      "outputs": [
        {
          "name": "stdout",
          "output_type": "stream",
          "text": [
            "\n",
            "Training model with learning rate: 0.001\n",
            "Epoch [1/10], Loss: 1.3355, Train Accuracy: 51.95%, Validation Accuracy: 59.86%\n",
            "Epoch [2/10], Loss: 0.9339, Train Accuracy: 67.00%, Validation Accuracy: 67.98%\n",
            "Epoch [3/10], Loss: 0.7921, Train Accuracy: 71.89%, Validation Accuracy: 70.06%\n",
            "Epoch [4/10], Loss: 0.6945, Train Accuracy: 75.50%, Validation Accuracy: 72.30%\n",
            "Epoch [5/10], Loss: 0.6068, Train Accuracy: 78.75%, Validation Accuracy: 69.86%\n",
            "Epoch [6/10], Loss: 0.5343, Train Accuracy: 81.12%, Validation Accuracy: 73.18%\n",
            "Epoch [7/10], Loss: 0.4561, Train Accuracy: 83.93%, Validation Accuracy: 74.02%\n",
            "Epoch [8/10], Loss: 0.3940, Train Accuracy: 85.95%, Validation Accuracy: 74.76%\n",
            "Epoch [9/10], Loss: 0.3271, Train Accuracy: 88.47%, Validation Accuracy: 74.22%\n",
            "Epoch [10/10], Loss: 0.2751, Train Accuracy: 90.34%, Validation Accuracy: 74.24%\n"
          ]
        },
        {
          "data": {
            "text/plain": [
              "CNN(\n",
              "  (conv1): Conv2d(3, 32, kernel_size=(3, 3), stride=(1, 1), padding=(1, 1))\n",
              "  (bn1): BatchNorm2d(32, eps=1e-05, momentum=0.1, affine=True, track_running_stats=True)\n",
              "  (pool): MaxPool2d(kernel_size=2, stride=2, padding=0, dilation=1, ceil_mode=False)\n",
              "  (conv2): Conv2d(32, 64, kernel_size=(3, 3), stride=(1, 1), padding=(1, 1))\n",
              "  (bn2): BatchNorm2d(64, eps=1e-05, momentum=0.1, affine=True, track_running_stats=True)\n",
              "  (fc1): Linear(in_features=4096, out_features=512, bias=True)\n",
              "  (fc2): Linear(in_features=512, out_features=10, bias=True)\n",
              ")"
            ]
          },
          "execution_count": 18,
          "metadata": {},
          "output_type": "execute_result"
        }
      ],
      "source": [
        "# Function to run experiments with different learning rates and Changed Optimizer\n",
        "def run_experiments(learning_rates):\n",
        "    for lr in learning_rates:\n",
        "        print(f\"\\nTraining model with learning rate: {lr}\")\n",
        "        model = CNN()\n",
        "        criterion = nn.CrossEntropyLoss()\n",
        "        optimizer = optim.Adam(model.parameters(), lr=lr)  # Using Adam optimizer\n",
        "\n",
        "        num_epochs = 10\n",
        "        train_model(model, train_loader, val_loader, criterion, optimizer, num_epochs)\n",
        "        return model\n",
        "\n",
        "# Define learning rates to experiment with\n",
        "learning_rates = [0.001, 0.01, 0.0001]\n",
        "run_experiments(learning_rates)"
      ]
    },
    {
      "cell_type": "markdown",
      "metadata": {
        "id": "2_l5fJZ10Flt"
      },
      "source": [
        "**3.3. Data Augmentation Techniques:** o enhance the model's generalization, we'll apply additional data augmentation methods. Some of the specific augmentations we could implement include:\n",
        "\n",
        "\n",
        "\n",
        "*   Random Vertical Flip: Flipping the images vertically.\n",
        "*   Random Erasing: Randomly selecting a rectangular region in an image and erasing the pixels in that area.\n",
        "*  Rotation: Randomly rotating images within a specified range of degrees.\n",
        "\n",
        "\n",
        "\n",
        "\n"
      ]
    },
    {
      "cell_type": "code",
      "execution_count": 19,
      "metadata": {
        "id": "CCpFYjzJz4k-"
      },
      "outputs": [],
      "source": [
        "\n",
        "import torchvision\n",
        "transform = torchvision.transforms.Compose([\n",
        "    torchvision.transforms.RandomHorizontalFlip(),\n",
        "    torchvision.transforms.RandomVerticalFlip(),\n",
        "    torchvision.transforms.RandomRotation(15),\n",
        "    torchvision.transforms.RandomResizedCrop(32, scale=(0.8, 1.0)),\n",
        "    torchvision.transforms.ColorJitter(brightness=0.2, contrast=0.2, saturation=0.2, hue=0.2),\n",
        "    torchvision.transforms.ToTensor(),\n",
        "    torchvision.transforms.Normalize((0.5, 0.5, 0.5), (0.5, 0.5, 0.5))\n",
        "])"
      ]
    },
    {
      "cell_type": "markdown",
      "metadata": {
        "id": "82OtIjT-2GM8"
      },
      "source": [
        "### 3.4. Displaying Predictions"
      ]
    },
    {
      "cell_type": "code",
      "execution_count": 23,
      "metadata": {
        "colab": {
          "base_uri": "https://localhost:8080/",
          "height": 1000
        },
        "id": "InNBY5buxfrg",
        "outputId": "d5cdf172-80cd-4ce6-9dc7-289ee068f96a"
      },
      "outputs": [
        {
          "name": "stdout",
          "output_type": "stream",
          "text": [
            "\n",
            "Training model with learning rate: 0.001\n",
            "Epoch [1/10], Loss: 1.2892, Train Accuracy: 53.74%, Validation Accuracy: 62.96%\n",
            "Epoch [2/10], Loss: 0.9227, Train Accuracy: 67.50%, Validation Accuracy: 65.58%\n",
            "Epoch [3/10], Loss: 0.7761, Train Accuracy: 72.72%, Validation Accuracy: 70.88%\n",
            "Epoch [4/10], Loss: 0.6617, Train Accuracy: 76.81%, Validation Accuracy: 70.32%\n",
            "Epoch [5/10], Loss: 0.5702, Train Accuracy: 79.79%, Validation Accuracy: 72.12%\n",
            "Epoch [6/10], Loss: 0.4878, Train Accuracy: 82.88%, Validation Accuracy: 71.12%\n",
            "Epoch [7/10], Loss: 0.4115, Train Accuracy: 85.58%, Validation Accuracy: 73.12%\n",
            "Epoch [8/10], Loss: 0.3307, Train Accuracy: 88.37%, Validation Accuracy: 74.16%\n",
            "Epoch [9/10], Loss: 0.2710, Train Accuracy: 90.41%, Validation Accuracy: 73.14%\n",
            "Epoch [10/10], Loss: 0.2154, Train Accuracy: 92.40%, Validation Accuracy: 73.76%\n"
          ]
        },
        {
          "data": {
            "image/png": "[encoded data removed]",
            "text/plain": [
              "<Figure size 640x480 with 1 Axes>"
            ]
          },
          "metadata": {},
          "output_type": "display_data"
        },
        {
          "name": "stdout",
          "output_type": "stream",
          "text": [
            "Predicted label: cat, True label: cat\n"
          ]
        },
        {
          "data": {
            "image/png": "[encoded data removed]",
            "text/plain": [
              "<Figure size 640x480 with 1 Axes>"
            ]
          },
          "metadata": {},
          "output_type": "display_data"
        },
        {
          "name": "stdout",
          "output_type": "stream",
          "text": [
            "Predicted label: ship, True label: ship\n"
          ]
        },
        {
          "data": {
            "image/png": "[encoded data removed]",
            "text/plain": [
              "<Figure size 640x480 with 1 Axes>"
            ]
          },
          "metadata": {},
          "output_type": "display_data"
        },
        {
          "name": "stdout",
          "output_type": "stream",
          "text": [
            "Predicted label: ship, True label: ship\n"
          ]
        },
        {
          "data": {
            "image/png": "[encoded data removed]",
            "text/plain": [
              "<Figure size 640x480 with 1 Axes>"
            ]
          },
          "metadata": {},
          "output_type": "display_data"
        },
        {
          "name": "stdout",
          "output_type": "stream",
          "text": [
            "Predicted label: airplane, True label: airplane\n"
          ]
        },
        {
          "data": {
            "image/png": "[encoded data removed]",
            "text/plain": [
              "<Figure size 640x480 with 1 Axes>"
            ]
          },
          "metadata": {},
          "output_type": "display_data"
        },
        {
          "name": "stdout",
          "output_type": "stream",
          "text": [
            "Predicted label: frog, True label: frog\n"
          ]
        }
      ],
      "source": [
        "import matplotlib.pyplot as plt\n",
        "import numpy as np\n",
        "\n",
        "def imshow(img):\n",
        "    img = img / 2 + 0.5  # Unnormalize\n",
        "    npimg = img.numpy()\n",
        "    plt.imshow(np.transpose(npimg, (1, 2, 0)))  # Change shape for displaying\n",
        "    plt.axis('off')\n",
        "    plt.show()\n",
        "\n",
        "# Function to predict and display results\n",
        "def predict_and_display(model, testset, num_images=5):\n",
        "  model.eval()\n",
        "  with torch.no_grad():\n",
        "        images, labels = zip(*[testset[i] for i in range(num_images)])  # Get first 'num_images' from testset\n",
        "        images = torch.stack(images)  # Create a batch of images\n",
        "        outputs = model(images)  # Get model outputs\n",
        "        _, predicted = torch.max(outputs.data, 1)  # Get predicted classes\n",
        "\n",
        "\n",
        "\n",
        "        # Display images and their predictions\n",
        "        for i in range(num_images):\n",
        "            imshow(images[i])\n",
        "            print(f'Predicted label: {classes[predicted[i]]}, True label: {classes[labels[i]]}')\n",
        "\n",
        "learning_rates = [0.001, 0.01, 0.0001]\n",
        "\n",
        "model = run_experiments(learning_rates)\n",
        "\n",
        "# Call the function to predict and display results\n",
        "predict_and_display(model, testset, num_images=5)"
      ]
    }
  ],
  "metadata": {
    "accelerator": "GPU",
    "colab": {
      "gpuType": "T4",
      "provenance": []
    },
    "kernelspec": {
      "display_name": "Python 3",
      "name": "python3"
    },
    "language_info": {
      "name": "python"
    }
  },
  "nbformat": 4,
  "nbformat_minor": 0
}
